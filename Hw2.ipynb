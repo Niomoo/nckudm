{
 "cells": [
  {
   "cell_type": "code",
   "execution_count": 74,
   "metadata": {},
   "outputs": [],
   "source": [
    "import pandas as pd\n",
    "import matplotlib.pyplot as plt\n",
    "import numpy as np\n",
    "import seaborn as sns"
   ]
  },
  {
   "cell_type": "code",
   "execution_count": 75,
   "metadata": {},
   "outputs": [
    {
     "data": {
      "text/plain": [
       "(0    5\n",
       " 1    1\n",
       " 2    4\n",
       " 3    2\n",
       " 4    5\n",
       " 5    4\n",
       " 6    5\n",
       " 7    5\n",
       " 8    5\n",
       " 9    5\n",
       " Name: Score, dtype: int64, pandas.core.series.Series)"
      ]
     },
     "execution_count": 75,
     "metadata": {},
     "output_type": "execute_result"
    }
   ],
   "source": [
    "datapath = \"./Reviews.csv\"\n",
    "df = pd.read_csv(datapath)\n",
    "df = df[:10000]\n",
    "scores = df[\"Score\"]\n",
    "scores[:10], type(scores)"
   ]
  },
  {
   "cell_type": "code",
   "execution_count": 76,
   "metadata": {},
   "outputs": [
    {
     "data": {
      "text/plain": [
       "<matplotlib.axes._subplots.AxesSubplot at 0x238bc635438>"
      ]
     },
     "execution_count": 76,
     "metadata": {},
     "output_type": "execute_result"
    },
    {
     "data": {
      "image/png": "[encoded data removed]",
      "text/plain": [
       "<Figure size 432x288 with 1 Axes>"
      ]
     },
     "metadata": {
      "needs_background": "light"
     },
     "output_type": "display_data"
    }
   ],
   "source": [
    "df['Score'].hist(bins=5)"
   ]
  },
  {
   "cell_type": "code",
   "execution_count": 77,
   "metadata": {},
   "outputs": [
    {
     "data": {
      "text/plain": [
       "A1Z54EM24Y40LL    17\n",
       "A2SZLNSI5KOQJT    10\n",
       "A35R32TA60XD57     9\n",
       "A281NPSIMI1C2R     8\n",
       "A3NHUQ33CFH3VM     7\n",
       "A3PJZ8TU8FDQ1K     7\n",
       "A3OXHLG6DIBRW8     7\n",
       "ABQN42N7ICNZQ      6\n",
       "AQQLWCMRNDFGI      6\n",
       "AY12DBB0U420B      6\n",
       "Name: UserId, dtype: int64"
      ]
     },
     "execution_count": 77,
     "metadata": {},
     "output_type": "execute_result"
    }
   ],
   "source": [
    "df['UserId'].value_counts().head(10)"
   ]
  },
  {
   "cell_type": "code",
   "execution_count": 81,
   "metadata": {},
   "outputs": [
    {
     "data": {
      "text/html": [
       "<div>\n",
       "<style scoped>\n",
       "    .dataframe tbody tr th:only-of-type {\n",
       "        vertical-align: middle;\n",
       "    }\n",
       "\n",
       "    .dataframe tbody tr th {\n",
       "        vertical-align: top;\n",
       "    }\n",
       "\n",
       "    .dataframe thead th {\n",
       "        text-align: right;\n",
       "    }\n",
       "</style>\n",
       "<table border=\"1\" class=\"dataframe\">\n",
       "  <thead>\n",
       "    <tr style=\"text-align: right;\">\n",
       "      <th></th>\n",
       "      <th>Id</th>\n",
       "      <th>HelpfulnessNumerator</th>\n",
       "      <th>HelpfulnessDenominator</th>\n",
       "      <th>Score</th>\n",
       "      <th>Time</th>\n",
       "    </tr>\n",
       "    <tr>\n",
       "      <th>UserId</th>\n",
       "      <th></th>\n",
       "      <th></th>\n",
       "      <th></th>\n",
       "      <th></th>\n",
       "      <th></th>\n",
       "    </tr>\n",
       "  </thead>\n",
       "  <tbody>\n",
       "    <tr>\n",
       "      <th>A2VYHKP93PS8XD</th>\n",
       "      <td>7520.0</td>\n",
       "      <td>4.0</td>\n",
       "      <td>4.0</td>\n",
       "      <td>5.0</td>\n",
       "      <td>1.199578e+09</td>\n",
       "    </tr>\n",
       "    <tr>\n",
       "      <th>A37P7A7K0ROMB0</th>\n",
       "      <td>7054.0</td>\n",
       "      <td>0.0</td>\n",
       "      <td>0.0</td>\n",
       "      <td>5.0</td>\n",
       "      <td>1.309219e+09</td>\n",
       "    </tr>\n",
       "    <tr>\n",
       "      <th>A37OEAOYVLKYC</th>\n",
       "      <td>7258.0</td>\n",
       "      <td>3.0</td>\n",
       "      <td>3.0</td>\n",
       "      <td>5.0</td>\n",
       "      <td>1.335830e+09</td>\n",
       "    </tr>\n",
       "    <tr>\n",
       "      <th>A37NQUD5YLU1UX</th>\n",
       "      <td>2277.0</td>\n",
       "      <td>0.0</td>\n",
       "      <td>0.0</td>\n",
       "      <td>5.0</td>\n",
       "      <td>1.337213e+09</td>\n",
       "    </tr>\n",
       "    <tr>\n",
       "      <th>A37N9XZBB8JYOF</th>\n",
       "      <td>87.0</td>\n",
       "      <td>1.0</td>\n",
       "      <td>1.0</td>\n",
       "      <td>5.0</td>\n",
       "      <td>1.333670e+09</td>\n",
       "    </tr>\n",
       "    <tr>\n",
       "      <th>A37LT0NZ65X89T</th>\n",
       "      <td>5130.0</td>\n",
       "      <td>0.0</td>\n",
       "      <td>0.0</td>\n",
       "      <td>5.0</td>\n",
       "      <td>1.348704e+09</td>\n",
       "    </tr>\n",
       "    <tr>\n",
       "      <th>A37JK1OP3NQV55</th>\n",
       "      <td>3607.0</td>\n",
       "      <td>0.0</td>\n",
       "      <td>0.0</td>\n",
       "      <td>5.0</td>\n",
       "      <td>1.227485e+09</td>\n",
       "    </tr>\n",
       "    <tr>\n",
       "      <th>A37HQ91XODAEPT</th>\n",
       "      <td>9754.0</td>\n",
       "      <td>1.0</td>\n",
       "      <td>1.0</td>\n",
       "      <td>5.0</td>\n",
       "      <td>1.322611e+09</td>\n",
       "    </tr>\n",
       "    <tr>\n",
       "      <th>A37H9RV4TNKLAH</th>\n",
       "      <td>5676.0</td>\n",
       "      <td>2.0</td>\n",
       "      <td>2.0</td>\n",
       "      <td>5.0</td>\n",
       "      <td>1.205798e+09</td>\n",
       "    </tr>\n",
       "    <tr>\n",
       "      <th>A37H7FTWHG2QL0</th>\n",
       "      <td>5157.0</td>\n",
       "      <td>0.0</td>\n",
       "      <td>1.0</td>\n",
       "      <td>5.0</td>\n",
       "      <td>1.323216e+09</td>\n",
       "    </tr>\n",
       "  </tbody>\n",
       "</table>\n",
       "</div>"
      ],
      "text/plain": [
       "                    Id  HelpfulnessNumerator  HelpfulnessDenominator  Score  \\\n",
       "UserId                                                                        \n",
       "A2VYHKP93PS8XD  7520.0                   4.0                     4.0    5.0   \n",
       "A37P7A7K0ROMB0  7054.0                   0.0                     0.0    5.0   \n",
       "A37OEAOYVLKYC   7258.0                   3.0                     3.0    5.0   \n",
       "A37NQUD5YLU1UX  2277.0                   0.0                     0.0    5.0   \n",
       "A37N9XZBB8JYOF    87.0                   1.0                     1.0    5.0   \n",
       "A37LT0NZ65X89T  5130.0                   0.0                     0.0    5.0   \n",
       "A37JK1OP3NQV55  3607.0                   0.0                     0.0    5.0   \n",
       "A37HQ91XODAEPT  9754.0                   1.0                     1.0    5.0   \n",
       "A37H9RV4TNKLAH  5676.0                   2.0                     2.0    5.0   \n",
       "A37H7FTWHG2QL0  5157.0                   0.0                     1.0    5.0   \n",
       "\n",
       "                        Time  \n",
       "UserId                        \n",
       "A2VYHKP93PS8XD  1.199578e+09  \n",
       "A37P7A7K0ROMB0  1.309219e+09  \n",
       "A37OEAOYVLKYC   1.335830e+09  \n",
       "A37NQUD5YLU1UX  1.337213e+09  \n",
       "A37N9XZBB8JYOF  1.333670e+09  \n",
       "A37LT0NZ65X89T  1.348704e+09  \n",
       "A37JK1OP3NQV55  1.227485e+09  \n",
       "A37HQ91XODAEPT  1.322611e+09  \n",
       "A37H9RV4TNKLAH  1.205798e+09  \n",
       "A37H7FTWHG2QL0  1.323216e+09  "
      ]
     },
     "execution_count": 81,
     "metadata": {},
     "output_type": "execute_result"
    }
   ],
   "source": [
    "df.groupby(['UserId']).agg(\"mean\").sort_values('Score', ascending=False).head(10)"
   ]
  },
  {
   "cell_type": "code",
   "execution_count": null,
   "metadata": {},
   "outputs": [],
   "source": []
  },
  {
   "cell_type": "code",
   "execution_count": null,
   "metadata": {},
   "outputs": [],
   "source": []
  }
 ],
 "metadata": {
  "kernelspec": {
   "display_name": "Python 3",
   "language": "python",
   "name": "python3"
  },
  "language_info": {
   "codemirror_mode": {
    "name": "ipython",
    "version": 3
   },
   "file_extension": ".py",
   "mimetype": "text/x-python",
   "name": "python",
   "nbconvert_exporter": "python",
   "pygments_lexer": "ipython3",
   "version": "3.7.3"
  }
 },
 "nbformat": 4,
 "nbformat_minor": 2
}
