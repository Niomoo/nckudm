{
 dataset:https://www.kaggle.com/ronitf/heart-disease-uci
 "cells": [
  {
   "cell_type": "code",
   "execution_count": 11,
   "metadata": {},
   "outputs": [],
   "source": [
    "import numpy as np # linear algebra\n",
    "import pandas as pd # data processing, CSV file I/O (e.g. pd.read_csv)\n",
    "import matplotlib.pyplot as plt\n",
    "import seaborn as sns"
   ]
  },
  {
   "cell_type": "code",
   "execution_count": 15,
   "metadata": {},
   "outputs": [],
   "source": [
    "df = pd.read_csv(\"heart.csv\")"
   ]
  },
  {
   "cell_type": "code",
   "execution_count": 16,
   "metadata": {},
   "outputs": [
    {
     "data": {
      "text/html": [
       "<div>\n",
       "<style scoped>\n",
       "    .dataframe tbody tr th:only-of-type {\n",
       "        vertical-align: middle;\n",
       "    }\n",
       "\n",
       "    .dataframe tbody tr th {\n",
       "        vertical-align: top;\n",
       "    }\n",
       "\n",
       "    .dataframe thead th {\n",
       "        text-align: right;\n",
       "    }\n",
       "</style>\n",
       "<table border=\"1\" class=\"dataframe\">\n",
       "  <thead>\n",
       "    <tr style=\"text-align: right;\">\n",
       "      <th></th>\n",
       "      <th>age</th>\n",
       "      <th>sex</th>\n",
       "      <th>cp</th>\n",
       "      <th>trestbps</th>\n",
       "      <th>chol</th>\n",
       "      <th>fbs</th>\n",
       "      <th>restecg</th>\n",
       "      <th>thalach</th>\n",
       "      <th>exang</th>\n",
       "      <th>oldpeak</th>\n",
       "      <th>slope</th>\n",
       "      <th>ca</th>\n",
       "      <th>thal</th>\n",
       "      <th>target</th>\n",
       "    </tr>\n",
       "  </thead>\n",
       "  <tbody>\n",
       "    <tr>\n",
       "      <th>0</th>\n",
       "      <td>63</td>\n",
       "      <td>1</td>\n",
       "      <td>3</td>\n",
       "      <td>145</td>\n",
       "      <td>233</td>\n",
       "      <td>1</td>\n",
       "      <td>0</td>\n",
       "      <td>150</td>\n",
       "      <td>0</td>\n",
       "      <td>2.3</td>\n",
       "      <td>0</td>\n",
       "      <td>0</td>\n",
       "      <td>1</td>\n",
       "      <td>1</td>\n",
       "    </tr>\n",
       "    <tr>\n",
       "      <th>1</th>\n",
       "      <td>37</td>\n",
       "      <td>1</td>\n",
       "      <td>2</td>\n",
       "      <td>130</td>\n",
       "      <td>250</td>\n",
       "      <td>0</td>\n",
       "      <td>1</td>\n",
       "      <td>187</td>\n",
       "      <td>0</td>\n",
       "      <td>3.5</td>\n",
       "      <td>0</td>\n",
       "      <td>0</td>\n",
       "      <td>2</td>\n",
       "      <td>1</td>\n",
       "    </tr>\n",
       "    <tr>\n",
       "      <th>2</th>\n",
       "      <td>41</td>\n",
       "      <td>0</td>\n",
       "      <td>1</td>\n",
       "      <td>130</td>\n",
       "      <td>204</td>\n",
       "      <td>0</td>\n",
       "      <td>0</td>\n",
       "      <td>172</td>\n",
       "      <td>0</td>\n",
       "      <td>1.4</td>\n",
       "      <td>2</td>\n",
       "      <td>0</td>\n",
       "      <td>2</td>\n",
       "      <td>1</td>\n",
       "    </tr>\n",
       "    <tr>\n",
       "      <th>3</th>\n",
       "      <td>56</td>\n",
       "      <td>1</td>\n",
       "      <td>1</td>\n",
       "      <td>120</td>\n",
       "      <td>236</td>\n",
       "      <td>0</td>\n",
       "      <td>1</td>\n",
       "      <td>178</td>\n",
       "      <td>0</td>\n",
       "      <td>0.8</td>\n",
       "      <td>2</td>\n",
       "      <td>0</td>\n",
       "      <td>2</td>\n",
       "      <td>1</td>\n",
       "    </tr>\n",
       "    <tr>\n",
       "      <th>4</th>\n",
       "      <td>57</td>\n",
       "      <td>0</td>\n",
       "      <td>0</td>\n",
       "      <td>120</td>\n",
       "      <td>354</td>\n",
       "      <td>0</td>\n",
       "      <td>1</td>\n",
       "      <td>163</td>\n",
       "      <td>1</td>\n",
       "      <td>0.6</td>\n",
       "      <td>2</td>\n",
       "      <td>0</td>\n",
       "      <td>2</td>\n",
       "      <td>1</td>\n",
       "    </tr>\n",
       "    <tr>\n",
       "      <th>5</th>\n",
       "      <td>57</td>\n",
       "      <td>1</td>\n",
       "      <td>0</td>\n",
       "      <td>140</td>\n",
       "      <td>192</td>\n",
       "      <td>0</td>\n",
       "      <td>1</td>\n",
       "      <td>148</td>\n",
       "      <td>0</td>\n",
       "      <td>0.4</td>\n",
       "      <td>1</td>\n",
       "      <td>0</td>\n",
       "      <td>1</td>\n",
       "      <td>1</td>\n",
       "    </tr>\n",
       "    <tr>\n",
       "      <th>6</th>\n",
       "      <td>56</td>\n",
       "      <td>0</td>\n",
       "      <td>1</td>\n",
       "      <td>140</td>\n",
       "      <td>294</td>\n",
       "      <td>0</td>\n",
       "      <td>0</td>\n",
       "      <td>153</td>\n",
       "      <td>0</td>\n",
       "      <td>1.3</td>\n",
       "      <td>1</td>\n",
       "      <td>0</td>\n",
       "      <td>2</td>\n",
       "      <td>1</td>\n",
       "    </tr>\n",
       "    <tr>\n",
       "      <th>7</th>\n",
       "      <td>44</td>\n",
       "      <td>1</td>\n",
       "      <td>1</td>\n",
       "      <td>120</td>\n",
       "      <td>263</td>\n",
       "      <td>0</td>\n",
       "      <td>1</td>\n",
       "      <td>173</td>\n",
       "      <td>0</td>\n",
       "      <td>0.0</td>\n",
       "      <td>2</td>\n",
       "      <td>0</td>\n",
       "      <td>3</td>\n",
       "      <td>1</td>\n",
       "    </tr>\n",
       "    <tr>\n",
       "      <th>8</th>\n",
       "      <td>52</td>\n",
       "      <td>1</td>\n",
       "      <td>2</td>\n",
       "      <td>172</td>\n",
       "      <td>199</td>\n",
       "      <td>1</td>\n",
       "      <td>1</td>\n",
       "      <td>162</td>\n",
       "      <td>0</td>\n",
       "      <td>0.5</td>\n",
       "      <td>2</td>\n",
       "      <td>0</td>\n",
       "      <td>3</td>\n",
       "      <td>1</td>\n",
       "    </tr>\n",
       "    <tr>\n",
       "      <th>9</th>\n",
       "      <td>57</td>\n",
       "      <td>1</td>\n",
       "      <td>2</td>\n",
       "      <td>150</td>\n",
       "      <td>168</td>\n",
       "      <td>0</td>\n",
       "      <td>1</td>\n",
       "      <td>174</td>\n",
       "      <td>0</td>\n",
       "      <td>1.6</td>\n",
       "      <td>2</td>\n",
       "      <td>0</td>\n",
       "      <td>2</td>\n",
       "      <td>1</td>\n",
       "    </tr>\n",
       "  </tbody>\n",
       "</table>\n",
       "</div>"
      ],
      "text/plain": [
       "   age  sex  cp  trestbps  chol  fbs  restecg  thalach  exang  oldpeak  slope  \\\n",
       "0   63    1   3       145   233    1        0      150      0      2.3      0   \n",
       "1   37    1   2       130   250    0        1      187      0      3.5      0   \n",
       "2   41    0   1       130   204    0        0      172      0      1.4      2   \n",
       "3   56    1   1       120   236    0        1      178      0      0.8      2   \n",
       "4   57    0   0       120   354    0        1      163      1      0.6      2   \n",
       "5   57    1   0       140   192    0        1      148      0      0.4      1   \n",
       "6   56    0   1       140   294    0        0      153      0      1.3      1   \n",
       "7   44    1   1       120   263    0        1      173      0      0.0      2   \n",
       "8   52    1   2       172   199    1        1      162      0      0.5      2   \n",
       "9   57    1   2       150   168    0        1      174      0      1.6      2   \n",
       "\n",
       "   ca  thal  target  \n",
       "0   0     1       1  \n",
       "1   0     2       1  \n",
       "2   0     2       1  \n",
       "3   0     2       1  \n",
       "4   0     2       1  \n",
       "5   0     1       1  \n",
       "6   0     2       1  \n",
       "7   0     3       1  \n",
       "8   0     3       1  \n",
       "9   0     2       1  "
      ]
     },
     "execution_count": 16,
     "metadata": {},
     "output_type": "execute_result"
    }
   ],
   "source": [
    "df.head(10)"
   ]
  },
  {
   "cell_type": "code",
   "execution_count": 17,
   "metadata": {},
   "outputs": [
    {
     "data": {
      "text/plain": [
       "Text(0.5, 1.0, 'Chest Pain vs Heart Disease')"
      ]
     },
     "execution_count": 17,
     "metadata": {},
     "output_type": "execute_result"
    },
    {
     "data": {
      "image/png": "iVBORw0KGgoAAAANSUhEUgAAAYIAAAEWCAYAAABrDZDcAAAABHNCSVQICAgIfAhkiAAAAAlwSFlzAAALEgAACxIB0t1+/AAAADl0RVh0U29mdHdhcmUAbWF0cGxvdGxpYiB2ZXJzaW9uIDMuMC4zLCBodHRwOi8vbWF0cGxvdGxpYi5vcmcvnQurowAAHHRJREFUeJzt3Xu8VVW99/HPl4vuCpDbhoNuEUkOXtKwtmJhoKFH5VBSmi89VnikOOf1dLGHnh49dlNPmp1M7aRlVCZaQWgZZkl5CS2OZBBWAvqgSLIRYQuSoiGw+T1/zIEucV/W3q651sb5fb9e+7XWvI7fmmvt9VtjjDnHVERgZmbF1aPWAZiZWW05EZiZFZwTgZlZwTkRmJkVnBOBmVnBORGYmRWcE4G9gqSLJP2g1nF0hqRlko6rdRx7Ih87AyeCQpL0L5IWS9oiaZ2kOyQdm2N5IySFpF7trHORpO0pps2S/kfSO8rZf0QcFhELKhZwJ0m6QdKXdpvX4Wt+jWUukPSRdpbvKn9L+lsv6XZJJ5auV+tjZ92DE0HBSJoBXA1cBgwFhgPfBE6tZVzJjyOiD1AP/A74qSTVOKZuRZnO/N/2T8f0rcCdwK2SzsklONtjOREUiKR9gEuAj0XETyPi+YjYHhE/j4jPlKy6l6QbJT2Xmg4aS/axr6SfSGqW9LikT5YsOzrVNJ5Nv0CvTIvuS4+b06/Tdn/pR8R2YBbwD8AgSW+WdI+kjZKelvRDSf1Lyl0t6YT0/CJJc9uKf7fjcZ2kK3abNy8lSySdL2lt2s8jkia2f4TbJmlvSVdIeiIdm+skvSEtG5B+rTdLeiY9byjZdoGkSyUtBF4AbgLeBVyTjuc1HZUfEU9FxNeBi4Cv7Eomux27tt4/JB2TammbJf2ptDlJ0r9KWpGO0ypJ/1aybHB6PZslbZL025Ky2/wsWZVFhP8K8gecDOwAerWzzkXAVmAS0BP4MrAoLesBLAG+AOwFjARWASel5fcDH0rP+wDHpOcjgCij3B+k53sDXwXWpOmDgBPT/HqyxHJ1ybargRM6ir+VMscDawCl6QHA34F9gdFp2b4lr+HNbeznBuBLu817xWsmq4XdBgwE+gI/B76clg0CTgPemJbdDPysZF8LgCeAw4BeQO807yPtHM9Wj3l6zwI4pJVj19b7tx+wMR3THum92AjUp+X/DLwZEDCBLFm9LS37MnBdirk3WQITHXyW/FfdP9cIimUQ8HRE7Ohgvd9FxC8jooXs1+db0/yjyP75L4mIbRGxCvgOcGZavh04SNLgiNgSEYs6Gd8ZkjaTfQG/HZgCEBGPRsSdEfFiRDQDV5J94XQ2/t39luxL8V1p+nTg/oh4EmghSzyHSuodEasj4rF2yvw/6Vfv5vQa/rxrQWre+ijwvyNiU0Q8R9Y0d2Z6fRsj4icR8UJadmkrr++GiFgWETsiqzF11ZPpcWAry9p6/z4I/DId050RcSewmCwxEBG/iIjHInMv8GtePqbbgWHAAZHVPn8bEUHHnyWrIieCYtkIDC6jA/OpkucvAHVpmwOAfXf7wruQrK8BYBrwj8DDkv4gaXIn45sbEf0jYkhEvDsilgBIGiJpTmqmeRb4ATC4C/G/QvpCmgOclWb9C/DDtOxR4FNkNYwNqfx92ynzihR7/4joDxxRsqye7Nf+kpLjNj/NR9IbJX1b0l/T67sP6C+pZ8k+1rRTdmfslx43tbKsrffvAOADu73vx5J9wSPpFEmLUtPPZrIEsev9+SrwKPDr1Gx0Qck+2/ssWRU5ERTL/WTNJlO6uP0a4PHSL7yI6BsRu34ZroyIs4AhwFeAWyS9iexX92vx5bSPIyKiH9kv1Ep1Is8GTpd0ADAW+MmuBRHxo4g4luxLK8heU1c8TdbkdFjJcdsnsk5cgE+TNUWNTa9vfJpf+hp3P4ZdPabvAzYAj+y+oJ33bw1w027v+5si4nJJe5MdsyuAoSkJ/nJX7BHxXER8OiJGAu8BZqS+lnY/S1ZdTgQFEhF/I2uTvVbSlPRLtHf6RfdfZeziAeDZ1In6Bkk9Jb1F0lEAkj4oqT4idgKb0zYtQDOwk6wduCv6AlvIOpv3Az7Twfpli4ilZPF9F/hVRGwGkDRa0rvTF91Wsi/yli6WsZOs2eMqSUPS/veTdFJapW/a/2ZJA4EvlrHb9XTieEoaKunjad//kWLafZ223r8fAO+RdFJ6z+skHZc6tPcia0JrBnZIOgX4p5J9TpZ0UGoeezbtr4UOPktWXU4EBRMRVwIzgM+R/fOuAT4O/KyMbVvIftWNAR4n+6X7XWCftMrJwDJJW4CvA2dGxNaIeIGs3XthagY4ppNhXwy8Dfgb8Avgp53cviOzgROAH5XM2xu4nOw1PkX2K/nC11DG+WRNJItS889dZLUAyDqS35DKWkTWbNSRr5PVZJ6R9N/trLdZ0vPAX8iabD4QEde3sW5b798astOLL+Tlz8xngB6pT+OTwFzgGbLmtdtK9jkqvdYtZDXSb0bEgjI+S1ZFu86WMDOzgnKNwMys4JwIzMwKzonAzKzgnAjMzAoul5ERK23w4MExYsSIWodhZrZHWbJkydMRUd/RentEIhgxYgSLFy+udRhmZnsUSX8tZz03DZmZFZwTgZlZwTkRmJkV3B7RR2BmVgvbt2+nqamJrVu31jqUdtXV1dHQ0EDv3r27tL0TgZlZG5qamujbty8jRoxA3fSuqRHBxo0baWpq4sADD+zSPtw0ZGbWhq1btzJo0KBumwQAJDFo0KDXVGtxIjAza0d3TgK7vNYYnQjMzArOicDMrOAK01n89s/cWOsQWPLVD9c6BDOzVylMIjAzq4Ubb7yRK664AkkcccQR9OzZk7q6OpYtW8b69eu58sormTx5ck1jdCIwM8vJsmXLuPTSS1m4cCGDBw9m06ZNzJgxg9WrV3Pvvffy2GOPcfzxx/Poo49SV1dXszjdR2BmlpN77rmH008/ncGDBwMwcOBAAM444wx69OjBqFGjGDlyJA8//HAtw3QiMDPLS0S0emrn7vNqfYqqE4GZWU4mTpzI3Llz2bhxIwCbNm0C4Oabb2bnzp089thjrFq1itGjR9cyTPcRmJnl5bDDDuOzn/0sEyZMoGfPnhx55JEAjB49mgkTJrB+/Xquu+66mvYPgBOBmVmupk6dytSpU1+aPueccxg3bhxXXXVVDaN6JTcNmZkVnGsEZmZVdMMNN9Q6hFdxjcDMrOBySwSSRkt6sOTvWUmfkjRQ0p2SVqbHAXnFYGZmHcstEUTEIxExJiLGAG8HXgBuBS4A7o6IUcDdadrMzGqkWk1DE4HHIuKvwKnArDR/FjClSjGYmVkrqtVZfCYwOz0fGhHrACJinaQhrW0gaTowHWD48OFVCdLMrD2VHsW43BGJ58+fz3nnnUdLSwsf+chHuOCCyjak5F4jkLQX8F7g5s5sFxEzI6IxIhrr6+vzCc7MrJtraWnhYx/7GHfccQfLly9n9uzZLF++vKJlVKNp6BTgjxGxPk2vlzQMID1uqEIMZmZ7pAceeICDDjqIkSNHstdee3HmmWcyb968ipZRjURwFi83CwHcBuy6zG4qUNlXZGb2OrJ27Vr233//l6YbGhpYu3ZtRcvINRFIeiNwIvDTktmXAydKWpmWXZ5nDGZme7KIeNW8So9WmmtncUS8AAzabd5GsrOIzMysAw0NDaxZs+al6aamJvbdd9+KluEri83MurGjjjqKlStX8vjjj7Nt2zbmzJnDe9/73oqW4bGGzMzKVO7pnpXUq1cvrrnmGk466SRaWlo499xzOeywwypbRkX3ZmZmFTdp0iQmTZqU2/7dNGRmVnBOBGZmBedEYGZWcE4EZmYF50RgZlZwTgRmZgXn00fNzMr0xCWHV3R/w7/wlw7XOffcc7n99tsZMmQIDz30UEXL38U1AjOzbuycc85h/vz5uZbhRGBm1o2NHz+egQMH5lqGE4GZWcE5EZiZFZwTgZlZwTkRmJkVnE8fNTMrUzmne1baWWedxYIFC3j66adpaGjg4osvZtq0aRUtw4nAzKwbmz17dscrvUZuGjIzK7i8b17fX9Itkh6WtELSOyQNlHSnpJXpcUCeMZiZWfvyrhF8HZgfEQcDbwVWABcAd0fEKODuNG1mZjWSWyKQ1A8YD3wPICK2RcRm4FRgVlptFjAlrxjMzKxjedYIRgLNwPclLZX0XUlvAoZGxDqA9DiktY0lTZe0WNLi5ubmHMM0Myu2PBNBL+BtwLci4kjgeTrRDBQRMyOiMSIa6+vr84rRzKzw8jx9tAloiojfp+lbyBLBeknDImKdpGHAhhxjMDOrmHHfGFfR/S38xMIO11mzZg0f/vCHeeqpp+jRowfTp0/nvPPOq2gcudUIIuIpYI2k0WnWRGA5cBswNc2bCszLKwYzsz1dr169+NrXvsaKFStYtGgR1157LcuXL69sGRXd26t9AvihpL2AVcC/kiWfuZKmAU8AH8g5BjOzPdawYcMYNmwYAH379uWQQw5h7dq1HHrooRUrI9dEEBEPAo2tLJqYZ7lmZq9Hq1evZunSpYwdO7ai+/WVxWZme4AtW7Zw2mmncfXVV9OvX7+K7tuJwMysm9u+fTunnXYaZ599Nu9///srvn8nAjOzbiwimDZtGocccggzZszIpQyPPmpmVqZyTveseJkLF3LTTTdx+OGHM2bMGAAuu+wyJk2aVLEynAjMzLqxY489lojItQw3DZmZFZwTgZlZwTkRmJkVnBOBmVnBORGYmRWcE4GZWcH59FEzszLdO35CRfc34b57O1xn69atjB8/nhdffJEdO3Zw+umnc/HFF1c0DicCM7NubO+99+aee+6hT58+bN++nWOPPZZTTjmFY445pmJluGnIzKwbk0SfPn2AbMyh7du3I6miZTgRmJl1cy0tLYwZM4YhQ4Zw4oknehhqM7Oi6dmzJw8++CBNTU088MADPPTQQxXdvxOBmdkeon///hx33HHMnz+/ovt1IjAz68aam5vZvHkzAH//+9+56667OPjggytaRq5nDUlaDTwHtAA7IqJR0kDgx8AIYDVwRkQ8k2ccZmaVUM7pnpW2bt06pk6dSktLCzt37uSMM85g8uTJFS2jGqePHh8RT5dMXwDcHRGXS7ogTZ9fhTjMzPY4RxxxBEuXLs21jFo0DZ0KzErPZwFTahCDmZkleSeCAH4taYmk6Wne0IhYB5Aeh7S2oaTpkhZLWtzc3JxzmGZmxZV309C4iHhS0hDgTkkPl7thRMwEZgI0Njbme3seM7M2RETFL+CqtNd6B7NcawQR8WR63ADcChwNrJc0DCA9bsgzBjOzrqqrq2Pjxo253yrytYgINm7cSF1dXZf3UXaNQNKxwKiI+L6keqBPRDzezvpvAnpExHPp+T8BlwC3AVOBy9PjvC5Hb2aWo4aGBpqamujuzdN1dXU0NDR0efuyEoGkLwKNwGjg+0Bv4AfAuHY2GwrcmqpUvYAfRcR8SX8A5kqaBjwBfKDL0ZuZ5ah3794ceOCBtQ4jd+XWCN4HHAn8EbImH0l929sgIlYBb21l/kZgYifjNDOznJTbR7AtskaygJeafczM7HWg3EQwV9K3gf6SPgrcBXwnv7DMzKxaymoaiogrJJ0IPEvWT/CFiLgz18jMzKwqyj5rKH3x+8vfzOx1ptyzhp4j9Q+U+BuwGPh06hg2M7M9ULk1giuBJ4EfAQLOBP4BeAS4Hjguj+DMzCx/5XYWnxwR346I5yLi2TT8w6SI+DEwIMf4zMwsZ+Umgp2SzpDUI/2dUbKs+157bWZmHSo3EZwNfIhsXKD16fkHJb0B+HhOsZmZWRWUe/roKuA9bSz+XeXCMTOzaiv3rKE6YBpwGPDSEHcRcW5OcZmZWZWU2zR0E9lZQicB9wINZPciNjOzPVy5ieCgiPg88HxEzAL+GTg8v7DMzKxayk0E29PjZklvAfYBRuQSkZmZVVW5F5TNlDQA+BzZjWX6AJ/PLSozM6uachPB3RHxDHAfMBJA0uv/bg1mZgVQbtPQT1qZd0slAzEzs9pot0Yg6WCyU0b3kfT+kkX9KDmN1MysEsZ9o72731bHwk8srHUIVddR09BoYDLQn1deUPYc8NG8gjIzs+ppNxFExDxgnqR3RMT9XSlAUk+y4arXRsTk1LcwBxhIdg/kD0XEtq7s28zMXrtyO4sflXQh2SmjL21T5pXF5wEryJqTAL4CXBURcyRdR3bF8rfKjtjMzCqq3M7ieWTXDtwF/KLkr12SGsguPvtumhbwbl7uaJ4FTOlcyGZmVknl1gjeGBHnd2H/VwP/F+ibpgcBmyNiR5puAvZrbUNJ04HpAMOHD+9C0WZmVo5yawS3S5rUmR1LmgxsiIglpbNbWbXV+xlExMyIaIyIxvr6+s4UbWZmnVBujeA84EJJ24BtZF/oERH92tlmHPDelEDqyPoIrgb6S+qVagUNZLfANDOzGimrRhARfSOiR0TURUS/NN1eEiAi/iMiGiJiBNk9ju+JiLOB3wCnp9WmkvU/mJlZjZSVCJT5oKTPp+n9JR3dxTLPB2ZIepSsz+B7XdyPmZlVQLlNQ98EdpKd8fOfwBbgWuCocjaOiAXAgvR8FdDVJGJmZhVWbiIYGxFvk7QUICKekbRXjnGZmVmVlH0/gnSFcABIqierIZiZ2R6u3ETw38CtwBBJl5LdsP6y3KIyM7OqKatpKCJ+KGkJMJHs1NEpEbEi18jMzKwqykoEko4BlkXEtWm6r6SxEfH7XKMzM7Pclds09C2yM4V2eR4PFGdm9rpQbiJQRLw0FERE7KT8M47MzKwbKzcRrJL0SUm90995wKo8AzMzs+ooNxH8O/BOYC3ZiKFjSSODmpnZnq3D5p10/cDZEXFmFeIxM7Mq67BGEBEtwKlViMXMzGqg3A7fhZKuAX5MdsYQABHxx1yiMjOzqik3EbwzPV5SMi/IBqEzM7M9WLlXFh+fdyBmZlYb5d6PYKik70m6I00fKmlavqGZmVk1lHv66A3Ar4B90/T/Az6VR0BmZlZd5SaCwRExlzT0dLrfcEtuUZmZWdWUmwielzSIl+9HcAzwt9yiMjOzqin3rKEZwG3ASEkLgXpevgF9qyTVAfcBe6dybomIL0o6EJgDDAT+CHwoIrZ1MX4zM3uNyq0RLCe7Mc0fgPXAd8j6CdrzIvDuiHgrMAY4OdUkvgJcFRGjgGcAdzqbmdVQuYngRuBgsruSfQMYBdzU3gaR2TV0de/0t+vag1vS/FnAlE7GbGZmFVRu09Do9Mt+l99I+lNHG6VxipYABwHXAo8Bm1NnM2QD2O3XxrbTSQPbDR8+vMwwzcyss8qtESxNzToASBoLLOxoo4hoiYgxQANwNHBIa6u1se3MiGiMiMb6+voywzQzs84qt0YwFviwpCfS9HBghaS/kLUCHdHexhGxWdIC4Bigv6ReqVbQADzZtdDNzKwSyk0EJ3d2x5Lqge0pCbwBOIGso/g3ZGcczQGmAvM6u28zM6uccsca+msX9j0MmJX6CXoAcyPidknLgTmSvgQsBb7XhX2bmVmF5Hbf4Yj4M3BkK/NXkfUXmJlZN1BuZ7GZmb1OORGYmRWcE4GZWcE5EZiZFZwTgZlZwTkRmJkVnBOBmVnBORGYmRWcE4GZWcHldmWxme05nrjk8FqHkBnQr9YRFJJrBGZmBedEYGZWcG4aMquxt3/mxlqHwK19ax2B1ZJrBGZmBedEYGZWcE4EZmYF50RgZlZwTgRmZgXnRGBmVnC5JQJJ+0v6jaQVkpZJOi/NHyjpTkkr0+OAvGIwM7OO5Vkj2AF8OiIOAY4BPibpUOAC4O6IGAXcnabNzKxGcksEEbEuIv6Ynj8HrAD2A04FZqXVZgFT8orBzMw6VpU+AkkjgCOB3wNDI2IdZMkCGNLGNtMlLZa0uLm5uRphmpkVUu6JQFIf4CfApyLi2XK3i4iZEdEYEY319fX5BWhmVnC5JgJJvcmSwA8j4qdp9npJw9LyYcCGPGMwM7P25XnWkIDvASsi4sqSRbcBU9PzqcC8vGIwM7OO5Tn66DjgQ8BfJD2Y5l0IXA7MlTQNeAL4QI4xmJlZB3JLBBHxO0BtLJ6YV7lmZtY5vrLYzKzgnAjMzArOicDMrOCcCMzMCs6JwMys4JwIzMwKzonAzKzgnAjMzArOicDMrOCcCMzMCs6JwMys4JwIzMwKzonAzKzg8hyG2rqpcd8YV+sQWPiJhbUOwcwS1wjMzArOicDMrOCcCMzMCs6JwMys4PK8ef31kjZIeqhk3kBJd0pamR4H5FW+mZmVJ88awQ3AybvNuwC4OyJGAXenaTMzq6HcEkFE3Ads2m32qcCs9HwWMCWv8s3MrDzV7iMYGhHrANLjkLZWlDRd0mJJi5ubm6sWoJlZ0XTbC8oiYiYwE6CxsTFqHI6ZFcS94yfUOgQAJtx3b9XKqnaNYL2kYQDpcUOVyzczs91UOxHcBkxNz6cC86pcvpmZ7SbP00dnA/cDoyU1SZoGXA6cKGklcGKaNjOzGsqtjyAizmpj0cS8yjQzs87zlcVmZgXnRGBmVnBOBGZmBedEYGZWcN32grLXoycuObzWIWQG9Kt1BGbWjbhGYGZWcE4EZmYF50RgZlZw7iOwmugOA3tVc1Avs+7MNQIzs4JzIjAzKzgnAjOzgnMiMDMrOCcCM7OCcyIwMys4JwIzs4JzIjAzKzgnAjOzgnMiMDMruJokAkknS3pE0qOSLqhFDGZmlql6IpDUE7gWOAU4FDhL0qHVjsPMzDK1qBEcDTwaEasiYhswBzi1BnGYmRm1GX10P2BNyXQTMHb3lSRNB6anyS2SHqlCbLk6oNYBvGww8HQtAziuloXvItU6gm7Dn82XHVfLwktV5vNZ1ltbi0TQ2quLV82ImAnMzD+c4pG0OCIaax2H2e782ayNWjQNNQH7l0w3AE/WIA4zM6M2ieAPwChJB0raCzgTuK0GcZiZGTVoGoqIHZI+DvwK6AlcHxHLqh1HwbnJzborfzZrQBGvap43M7MC8ZXFZmYF50RgZlZwTgQF4qE9rLuSdL2kDZIeqnUsReREUBAe2sO6uRuAk2sdRFE5ERSHh/awbisi7gM21TqOonIiKI7WhvbYr0axmFk34kRQHGUN7WFmxeNEUBwe2sPMWuVEUBwe2sPMWuVEUBARsQPYNbTHCmCuh/aw7kLSbOB+YLSkJknTah1TkXiICTOzgnONwMys4JwIzMwKzonAzKzgnAjMzArOicDMrOCcCKzwJPWX9L+qUM5xkt6ZdzlmneVEYAb9gbITgTJd+d85DnAisG7H1xFY4UnaNRLrI8BvgCOAAUBv4HMRMU/SCOCOtPwdwBTgBOB8sqE6VgIvRsTHJdUD1wHDUxGfAtYCi4AWoBn4RET8thqvz6wjTgRWeOlL/vaIeIukXsAbI+JZSYPJvrxHAQcAq4B3RsQiSfsC/wO8DXgOuAf4U0oEPwK+GRG/kzQc+FVEHCLpImBLRFxR7ddo1p5etQ7ArJsRcJmk8cBOsqG6h6Zlf42IRen50cC9EbEJQNLNwD+mZScAh0ovDfjaT1LfagRv1hVOBGavdDZQD7w9IrZLWg3UpWXPl6zX2rDeu/QA3hERfy+dWZIYzLoVdxabZU07u36x7wNsSEngeLImodY8AEyQNCA1J51WsuzXZAP8ASBpTCvlmHUbTgRWeBGxEViYbpw+BmiUtJisdvBwG9usBS4Dfg/cBSwH/pYWfzLt48+SlgP/nub/HHifpAclvSu3F2TWSe4sNusiSX0iYkuqEdwKXB8Rt9Y6LrPOco3ArOsukvQg8BDwOPCzGsdj1iWuEZiZFZxrBGZmBedEYGZWcE4EZmYF50RgZlZwTgRmZgX3/wHmvcd7Idq7LAAAAABJRU5ErkJggg==\n",
      "text/plain": [
       "<Figure size 432x288 with 1 Axes>"
      ]
     },
     "metadata": {
      "needs_background": "light"
     },
     "output_type": "display_data"
    }
   ],
   "source": [
    "temp = (df.groupby(['target']))['cp'].value_counts(normalize=True)\\\n",
    ".mul(100).reset_index(name = \"percentage\")\n",
    "sns.barplot(x = \"target\", y = \"percentage\", hue = \"cp\", data = temp)\\\n",
    ".set_title(\"Chest Pain vs Heart Disease\")"
   ]
  },
  {
   "cell_type": "code",
   "execution_count": 18,
   "metadata": {},
   "outputs": [
    {
     "data": {
      "text/plain": [
       "Text(0.5, 1.0, 'FBS vs Target')"
      ]
     },
     "execution_count": 18,
     "metadata": {},
     "output_type": "execute_result"
    },
    {
     "data": {
      "image/png": "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\n",
      "text/plain": [
       "<Figure size 432x288 with 1 Axes>"
      ]
     },
     "metadata": {
      "needs_background": "light"
     },
     "output_type": "display_data"
    }
   ],
   "source": [
    "temp = (df.groupby(['target']))['fbs'].value_counts(normalize=True)\\\n",
    ".mul(100).reset_index(name = \"percentage\")\n",
    "sns.barplot(x = \"target\", y = \"percentage\", hue = \"fbs\", data = temp).set_title(\"FBS vs Target\")"
   ]
  },
  {
   "cell_type": "code",
   "execution_count": 19,
   "metadata": {},
   "outputs": [
    {
     "data": {
      "text/plain": [
       "Text(0.5, 1.0, 'resting electrocardiographic results vs Heart Disease')"
      ]
     },
     "execution_count": 19,
     "metadata": {},
     "output_type": "execute_result"
    },
    {
     "data": {
      "image/png": "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\n",
      "text/plain": [
       "<Figure size 432x288 with 1 Axes>"
      ]
     },
     "metadata": {
      "needs_background": "light"
     },
     "output_type": "display_data"
    }
   ],
   "source": [
    "temp = (df.groupby(['target']))['restecg'].value_counts(normalize=True)\\\n",
    ".mul(100).reset_index(name = \"percentage\")\n",
    "sns.barplot(x = \"target\", y = \"percentage\", hue = \"restecg\", data = temp)\\\n",
    ".set_title(\"resting electrocardiographic results vs Heart Disease\")"
   ]
  },
  {
   "cell_type": "code",
   "execution_count": 21,
   "metadata": {},
   "outputs": [
    {
     "data": {
      "text/plain": [
       "Text(0.5, 1.0, 'ca vs Heart Disease')"
      ]
     },
     "execution_count": 21,
     "metadata": {},
     "output_type": "execute_result"
    },
    {
     "data": {
      "image/png": "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\n",
      "text/plain": [
       "<Figure size 432x288 with 1 Axes>"
      ]
     },
     "metadata": {
      "needs_background": "light"
     },
     "output_type": "display_data"
    }
   ],
   "source": [
    "temp = (df.groupby(['target']))['ca'].value_counts(normalize=True)\\\n",
    ".mul(100).reset_index(name = \"percentage\")\n",
    "sns.barplot(x = \"target\", y = \"percentage\", hue = \"ca\", data = temp)\\\n",
    ".set_title(\"ca vs Heart Disease\")"
   ]
  },
  {
   "cell_type": "code",
   "execution_count": 22,
   "metadata": {},
   "outputs": [
    {
     "data": {
      "text/plain": [
       "Text(0.5, 1.0, 'thal vs Heart Disease')"
      ]
     },
     "execution_count": 22,
     "metadata": {},
     "output_type": "execute_result"
    },
    {
     "data": {
      "image/png": "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\n",
      "text/plain": [
       "<Figure size 432x288 with 1 Axes>"
      ]
     },
     "metadata": {
      "needs_background": "light"
     },
     "output_type": "display_data"
    }
   ],
   "source": [
    "temp = (df.groupby(['target']))['thal'].value_counts(normalize=True)\\\n",
    ".mul(100).reset_index(name = \"percentage\")\n",
    "sns.barplot(x = \"target\", y = \"percentage\", hue = \"thal\", data = temp)\\\n",
    ".set_title(\"thal vs Heart Disease\")"
   ]
  },
  {
   "cell_type": "code",
   "execution_count": 23,
   "metadata": {},
   "outputs": [
    {
     "name": "stdout",
     "output_type": "stream",
     "text": [
      "<class 'pandas.core.frame.DataFrame'>\n",
      "RangeIndex: 303 entries, 0 to 302\n",
      "Data columns (total 14 columns):\n",
      "age         303 non-null int64\n",
      "sex         303 non-null int64\n",
      "cp          303 non-null int64\n",
      "trestbps    303 non-null int64\n",
      "chol        303 non-null int64\n",
      "fbs         303 non-null int64\n",
      "restecg     303 non-null int64\n",
      "thalach     303 non-null int64\n",
      "exang       303 non-null int64\n",
      "oldpeak     303 non-null float64\n",
      "slope       303 non-null int64\n",
      "ca          303 non-null int64\n",
      "thal        303 non-null int64\n",
      "target      303 non-null int64\n",
      "dtypes: float64(1), int64(13)\n",
      "memory usage: 33.2 KB\n"
     ]
    }
   ],
   "source": [
    "df.info()"
   ]
  },
  {
   "cell_type": "code",
   "execution_count": 24,
   "metadata": {},
   "outputs": [
    {
     "data": {
      "text/plain": [
       "(array([ 1,  2,  3,  4,  5,  6,  7,  8,  9, 10, 11, 12, 13, 14]),\n",
       " <a list of 14 Text xticklabel objects>)"
      ]
     },
     "execution_count": 24,
     "metadata": {},
     "output_type": "execute_result"
    },
    {
     "data": {
      "image/png": "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\n",
      "text/plain": [
       "<Figure size 432x288 with 1 Axes>"
      ]
     },
     "metadata": {
      "needs_background": "light"
     },
     "output_type": "display_data"
    }
   ],
   "source": [
    "df.boxplot()\n",
    "plt.xticks(rotation = 90)"
   ]
  },
  {
   "cell_type": "code",
   "execution_count": 25,
   "metadata": {},
   "outputs": [
    {
     "data": {
      "text/plain": [
       "<matplotlib.axes._subplots.AxesSubplot at 0x2c6c46145f8>"
      ]
     },
     "execution_count": 25,
     "metadata": {},
     "output_type": "execute_result"
    },
    {
     "data": {
      "image/png": "iVBORw0KGgoAAAANSUhEUgAAAYQAAAEbCAYAAADajfNFAAAABHNCSVQICAgIfAhkiAAAAAlwSFlzAAALEgAACxIB0t1+/AAAADl0RVh0U29mdHdhcmUAbWF0cGxvdGxpYiB2ZXJzaW9uIDMuMC4zLCBodHRwOi8vbWF0cGxvdGxpYi5vcmcvnQurowAAIABJREFUeJzt3Xec3FW9//HXOwWSEEKHSw8JvUYIXSNNfjTpGorS1FxABOTCFa6ACKKgYAXRYAGRDlIEBDRUgYQkkAQSJXAplyYQISSQAMnu5/fHOZv9ZjK7O/Odszvfmf08ecxjZ77znc+cWTZzvqd9jswM55xzrk+9C+Ccc64YvEJwzjkHeIXgnHMu8grBOecc4BWCc865yCsE55xzgFcIzjnnIq8QnHPOAV4hOOeci/rVuwDdacGsF5Mtwz575LdThWKgpauHjxj072Sx5swdkCzWWwsGJos1bmDa1fT3z385WazzNSxZrLX7zk8Wa2z/dP+0Tx/wQbJYk+aslCzWnf3TlQvgxlduV60xqvnO6b/ysJrfLzVvITjnnAOavIXgnHM9qrWl3iWoiVcIzjmXSsvCepegJl4hOOdcImat9S5CTbxCcM65VFobu0Ko66CypNslTZY0XdKYeOwrkmZKekjSlZIui8dXkXSrpInxtnM9y+6cc0uw1spvBVTvFsJxZvaupIHAREl3A+cAWwNzgQeAqfHcnwE/MbO/S1oHuA/YpB6Fds65shp8ULne005PljQVGA+sDXwZeNjM3jWzBcDNmXP3AC6TNAW4ExgiadnSgJLGSJokadJv/nB9D3wE55yLvIWQj6RdCF/yO5rZPEkPAc/R8VV/n3hup6t3zGwsMBbSLkxzzrmuWIPPMqpnC2E54L1YGWwM7AAMAj4raQVJ/YBDMuffD5zU9kDSiB4trXPOdaW1tfJbFyTtJek5SS9IOrPM8+tKGidpWhxzXavW4tezQrgX6CdpGnABodvodeD7wATgb8AM4P14/snAyPjhZwDH93yRnXOuE4m6jCT1BS4H9gY2BQ6XtGnJaZcAfzCzLYHzgR/UWvy6dRmZ2ceED7sYSZPMbGxsIdxGaBlgZrOA0T1bSuecq0K6QeXtgBfM7EUASTcABxAukttsCnwz3n8QuL3WN633oHI558WB42eBl0jwIZ1zrkekG1ReE3g18/i1eCxrKu3d6gcBy0qqKXtgvaedLsHMTq93GZxzLpcqBpXj2qsxmUNj46QYgHKZUEsnyZxOmHl5DPAIocu9plHtwlUIKaVMWf29SRcmi/XDbc5JFuvGeenSCc9MmH55d+ubLNaWC+DVfukmjB05YP1ksQZ/lG5Wyast6VKGb9AvXeN/5ux0XxMb9v0wWaw5rR8ni5VMFSuVszMiy3iNMBW/zVrAGyWvfwM4GEDSYOAQM3ufGjR1heCaQ8rKwLnuZJZsDGEisIGk9QhX/ocBR2RPkLQy8K6FBEpnAb+r9U2LOIbgnHONKdEYgpktJEyzvw/4B3CTmU2XdL6k/eNpuwDPSZoJrAbU3I3hLQTnnEslYXI7M7sHuKfk2LmZ+7cAtyR7Q7xCcM65dAqakqJSXiE451wqLQvqXYKaeIXgnHOp+H4ItZG0jKS7JU2V9Kyk0ZK2kfRw3CvhPkmrS+oX90HYJb7uB5LSzQV1zrlaebbTmu0FvGFm+wJIWg74C3CAmb0jaTRwoZkdFxdg3CLp5Pi67etVaOecW0KDtxCKUCE8A1wi6WLgLuA9YHPgr5IA+gJvAsRpV9cAfyakwv6kNFh29d+eK45kxLLpFiE551ynvEKojZnNlLQNsA8hW99fgelmtmMHL9kCmE2Yd1su3qLVf98aerivaHLO9Rhr8EHlIowhrAHMM7M/EtK5bg+sImnH+Hx/SZvF+wcDKwGjgJ9LWr5OxXbOuSX5GELNtgB+JKkVWACcQEjQ9PM4ntAP+Kmkt4CLgN3N7FVJlxH2WT66TuV2zrnFeZdRbczsPsLy7FKjyhzbMPO6n3dboZxzLo+CXvlXqu4VgnPONQ1vITjnnAO8hVBkAy3dmHnKPQz+e/IFyWJdu9W5XZ9UoQX90+XjH9KS7h/GWonnPoxa4Z1ksQ74qKb084sZNWCdZLH2nZ9uP4pbB6abOdM/4VfOddum278jmYXp9seoh6auEJxzrkd5C8E55xzgYwjOOecibyE455wDvIXgnHMu8haCc845wGcZdRdJRwGnAwZMA1qAj4DNCIntTjOzu+pXQuecK2GNnU+z7sntyonJ7L4N7GZmWwGnxKeGAp8F9gV+JWlAmdeOkTRJ0qTJH7zQU0V2zrkwhlDprYAKWSEAuwG3mNksADN7Nx6/ycxazex54EVg49IXmtlYMxtpZiO3Gex7ITjnelCDVwhF7TISoauoVOmxxm6fOeeaS4MPKhe1hTAO+KKklQAkrRiPf0FSH0nDgWHAc/UqoHPOLaGlpfJbARWyhRC3yrwQeFhSC/B0fOo54GHCoPLxZvZRvcronHNLKGhXUKUKWSEAmNnVwNVtjyVdBTxmZt+sW6Gcc64zXiE455wDGn4MQdbg82Y7M3OTvZJ9uBvnrZQqFGsvVLJYR049P1ms+zf7drJYQ5R2s/E7BvRPFmslS5caep2EH3M485LFummppZLFGvVRuqHGD/qkizV+qbR/Y5e9fGPN/zDnjf1mxd85g8b8JN0XQSLeQnCFl7IycK5beZeRc845oLCzhyrlFYJzzqXiLQTnnHNAw1cInY7wSFpe0okp3kjSMZLWyDx+WdLKKWI751whmFV+K6CuhvyXB5aoECTlmaZxDLBGVyc551zDSpjLSNJekp6T9IKkMzs454uSZkiaLum6WovfVZfRRcBwSVOABcAHwJvACGBTSV8CTgaWAibQXnn8FhhJyDX0O+DV+PhaSfOBHeN5Z0jaNd4/wsxeiAvQlkhzHTOg/j6+Vx/gkJjkzjnniqE1zZV/vOi+HPgc8BowUdKdZjYjc84GwFnAzmb2nqRVa33friqEM4HNzWyEpF2Au+PjlyRtAoyOhVkg6ZfAkcB0YE0z2zwWenkzmy3pJOB0M5sUjwPMMbPt4t4HPwX2i+87lJDmejjwoKT1geOBn5nZtZKWAtJNJnfOuRTSzTLaDnjBzF4EkHQDcAAwI3PO14DLzew9ADN7u9Y3rXaVyJNm9lK8vzuwDaHmmhIfDyOkpR4m6ReS9gLmdBLv+szPHTPHy6W5fgL4H0nfAtY1s/nlAmb3Q7hx9qtVfjznnMvPWlsrvmW/q+JtTCbUmoSelTavxWNZGwIbSnpM0vj4fVuTamcZfZi5L+BqMzur9CRJWwH/D/g68EXguA7iWQX3AczMrpM0gbA5zn2SvmpmDywR0GwsMBbSrlR2zrkuVdFllP2uKqPcKubS4P2ADYBdgLWARyVtbmazKy5Eia5aCHOBZTt4bhxwaFu/laQVJa0bZw71MbNbgXOArTuJNTrz84nM8SXSXEsaBrxoZj8H7gS27PrjOedcD7LWym+dew1YO/N4LeCNMufcYWYLYs/Nc4QKIrdOWwhm9u/YHHkWmA+8lXluhqSzgfsl9SEMOn89nvf7eAzCoAfAVYRtL7ODykvHq/4+wOGZt14izbWk0cCXJC0A/gWkS+LjnHMpJBpUBiYCG0haD3gdOAw4ouSc2wnfm1fFC/ENCV3suXXZZWRmpYXIPncjcGOZp7Yuc+6twK2ZQ0Pjz++Wef0Saa7N7AfAD7oqr3PO1c3CNIPKZrYwTsS5jzCB5ndxn5jzgUlmdmd8bk9JM4AW4Awz+3ct7+srlZ1zLpWE6a/N7B7gnpJj52buG3BavCVRuArBzI6pdxmccy6XdF1GdVG4CiGlOXMHJIs1s2/ZWa65LOg/MFmslHsY7Dn9wmSxrvzUuV2fVKF5fJIsFsDaCfdDSGmmBiWLtV7CpJvz+6T7khuUMNfPcgVcimQNnsuoqSsE55zrUd5CcM45B3iF4JxzLvINcpxzzgFYg7cQ0u14XQNJV0k6tIrzh8bFcs45VxytVvmtgLyF4JxzqTT4LKO6tBAkHSVpmqSpkq6Jh0dJelzSi22tBQU/kvSspGdi+grnnCumBm8h9HiFEDe6+Tawm5ltBZwSn1od+DRhT4SL4rGDCZvxbAXsAfxI0updxF+UUvZPH77cDZ/AOec64BVC1XYDbjGzWQBm9m48fnvcA2EGIakdhAriejNrMbO3CAnvtu0suJmNNbORZjby4GWGds8ncM65MqylteJbEdVjDEEsmdcb4OOSc7I/nXOu+Ap65V+perQQxgFflLQShH0UOjn3EWC0pL6SVgFGAU/2QBmdc65q1moV34qox1sIMYXrhcDDklqApzs5/TbC3glTCa2K/zazf0ka2u0Fdc65ahX0i75SdZl2amZXA1d38vzg+NOAM+It+/zLwObdWETnnKteMYcGKubrEJxzLhFb2Ng1glcIzjmXSmPXB81dIby1IN2+A7snzKE/JOGUsyFakCxWyj0MvvZ0ui2vvzvy7GSxUvsg4bSMBQnn1M1OuIfBRp+kS9g2ZUC6r5wVCvjlW9TB4ko1dYXgnHM9qoCVVDW8QnDOuUS8heCccy5o8BZCIdJfA0g6WdI/JF0r6fR6l8c556plCyu/FVFhKgTgRGAf4Pl6F8Q55/Kw1spvRVSICkHSr4BhwJ3AN4GtJD0g6XlJX4vnrC7pEUlTYjrsz9SzzM45t4TWKm4FVIgxBDM7XtJewK7AScBBwA7AMsDTku4GDgfuM7MLJfUFBtWtwM45V0ZRr/wrVYgWQhl3mNn8mCL7QWA7YCJwrKTzgC3MbG65F2b3Q7h3/gs9V2LnXK/nXUbdo3TulpnZI4Rsp68D10g6quwLM/sh7DVw/e4up3POLWItqvhWREWtEA6QNCCmyN4FmChpXeBtM7sS+C2wdT0L6JxzpRq9hVCIMYQyngTuBtYBLjCzNyQdDZwhaQHwAVC2heCcc/VircW88q9UYSoEMxsa757XwfOdpsx2zrl6K+qVf6UKUyE451yjM/MWgnPOObyFUGjjBqZLNLWCpYu1VsKx/Mf7908Wax6fJIuVMmX1dyZ9L1ksgD9ulS7N9yv90v1dpEuwDpuk+1/J4wPSlWy5hLnfNvm4ePkfWhPOHoprs35G+NP4jZldVPL88cDXgRbCuOoYM5tRy3sWdZaRc841HGtVxbfOxMW3lwN7A5sCh0vatOS068xsCzMbAfwQ+HGt5W/qFoJzzvWkhLOMtgNeMLMXASTdABwALGoBmNmczPnLsOT6rap5heCcc4kk7FleE3g18/g1YPvSkyR9HTgNWArYrdY39S4j55xLpJouo2yanXgbkwlVrqmxRHVjZpeb2XDgW0DNA3c92kKQdCAws9aBD+ecK6Jqpp2a2VhgbAdPvwasnXm8FvBGJ+FuAK6o+M07UFMLQUE1MQ4kDJA451zTaWlRxbcuTAQ2kLSepKWAwwjbAywiaYPMw31JsJdM1RWCpKFxZ7NfAk8BX5b0hKSnJN0saXA87yJJMyRNk3SJpJ2A/YEfxT0NhsfbvZImS3pU0sbxtatJuk3S1HjbKR4/R9I/Jf1V0vW+s5pzrkjMVPGt8zi2kLAVwH3AP4CbzGy6pPMl7R9PO0nSdElTCOMIR9da/rxdRhsBxwLnAn8C9jCzDyV9CzhN0mWEPQ02NjOTtLyZzZZ0J3CXmd0CIGkccLyZPS9pe+CXhIGRnwMPm9lBcfrVYEkjgUOAT8VyPwVMLi1Y7IcbA7D7iiPZctnhOT+ic85VJ2UuIzO7B7in5Ni5mfunJHuzKG+F8IqZjZe0H6EL6DFJEEa6nwDmAB8Bv4mb29xVGiC2JHYCbo6vBVg6/tyNmLzOzFqA9yV9mrhPQnz9n8sVLNsvd9rQwxIug3HOuc4lnGVUF3krhA/jTwF/NbPDS0+QtB2wO6Hv6ySWnBLVB5gdF1VUorGThDjnml6jZzutddrpeGBnSesDSBokacN49b9cbPKcCrR96c8FloVFiypekvSF+FpJ2iqeNw44IR7vK2kI8Hfg83GfhMGEQRTnnCuMltY+Fd+KqKZSmdk7wDHA9ZKmESqIjQlf+nfFYw8D34wvuYGwp8HTkoYDRwJfkTQVmE5YiQdwCrCrpGcI4wSbmdlEwij7VMK4xSTg/VrK75xzKZlVfiuiqruMzOxlYPPM4weAbcucul2Z1z7GktNO9ypz3lu0Vw5Zl5jZeZIGAY8Al1Zecuec616tnv66R42NCZ4GAFeb2VP1LpBzzrXx/RB6kJkdUe8yOOdcR4raFVSphqoQqnX//JeTxTpywPrJYo1a4Z1ksf41d5Vksda2lBn500m5fwHAl6aenyzWdpt/OVmspfuk29vi+M3TfTP9aeaKyWKt22dgslhH7/RmslipeJeRc845gMLOHqqUVwjOOZdIg/cYeYXgnHOpNHqXUVXtG0nLSzox3t9F0hIpKbp4/VWSDq3mNXnfyznnelqq5Hb1Um2H1/LAid1REOeca3StVdyKqNoK4SJgeEy3+iNCFtJbYkrqaxWz1Ek6V9JESc9KGtt2PKujcyStL+lvMe31U3FFMx29l3POFYWhim9FVG2FcCbwvzEh3RmEVNSnElYfDwN2juddZmbbmtnmwEBgvzKxOjrnWuByM9uKkA21bW5ZR+/lnHOFsNBU8a2Iap0j9aSZvWZmrcAUYGg8vqukCTEX0W7AZmVeu8Q5kpYF1jSz2wDM7CMzm9fFey1GmX1K353/do0fzznnKtfbWgilPs7cbwH6SRpA2OjmUDPbAriSkGpikU7O6ey3tMR7lTvJzMaa2UgzG7niwFWr/TzOOZdbbxtDWJS+uhNtX/6zYprqcrOKyp4TU2K/JulAAElLx0R2zjlXeI3eQqhqHYKZ/VvSY5KeBeYDb5U5Z7akK4FngJcJm0VXc86XgV9LOh9YAHyhmjI651y9FPXKv1J50l+XTTBnZidl7p8NnF3mnGMqOOd5ltxd7UXgoXLv5ZxzRdFS0Cv/SvlKZeecS6TBd9D0CsE551Jp9RZCcZ2vYcliDf5oYbJYB3yUbufPs/qmS3+d0gcJkz6+0i9tyrCUKauffPaaZLFeGXVCsljHPZculfaYTwZ0fVKF/qPv/GSxRj46J1ksCP3StfLkds4554BeOKjsnHOuvNYGz6jjFYJzziXSUu8C1MgrBOecS8RnGTnnnAN8lpFzzrmo0WcZJd0RWtKXJD0paYqkX0taV9LzklaW1EfSo5L2jOfeLmmypOmSxmRifCDpwrgfwnhJq8Xjw+PjiZLOl/RByrI751ytWlX5rYiSVQiSNgFGAzvH/RJagM8CFwO/Av4LmGFm98eXHGdm2wAjgZMlrRSPLwOMj/shPAJ8LR7/GfAzM9sWeKOTcixKf33/vBdSfTznnOtSb8t22pndgW2AiXFHtd2BYWb2G0KG1OOB0zPnnyxpKjAeWBvYIB7/BGjbP3ky7fse7AjcHO9f11Ehsumv9xy0fs0fyjnnKtWiym9FlHIMQcDVZnbWYgdD+uq14sPBwFxJuwB7ADua2TxJD9GeEnuBmbV1xXW474FzzhVNUa/8K5WyhTAOOFTSqgCSVpS0LqHL6FrgXMJGOADLAe/FymBjYIcK4o8HDon3D0tYbuecSyJll5GkvSQ9J+kFSWeWeX5pSTfG5ydIGlpr+ZNVCGY2g5DO+n5J04C/Erp7tgUuNrNrgU8kHQvcS9hdbRpwAeHLviunAqdJehJYHUiXEMg55xIwVX7rjKS+wOXA3oR95A+XtGnJaV8hXFivD/yEcPFdk6TdMWZ2I3BjyeEdMs8fnDm+dwcxBmfu3wLcEh++DuxgZibpMGBSkkI751wiCbuMtgNeMLMXASTdABwAzMiccwBwXrx/C3CZJGW63KvWSP3z2xA/MDAbOK7O5XHOucVUk7oiTrcfkzk01szGxvtrAq9mnnsN2L4kxKJzzGyhpPeBlYBZVRU6o2EqBDN7FNiq3uVwzrmOVLO+IH75j+3g6XKRSq/8KzmnKg1TIeSxdsLc66+2DEwWa9SAdZLFGv7JvGSxZmpQslgLEk6r65suFABL90m3V0DKPQzWfeSKZLH+ssZnksX67mojk8VqaU03j0UFTBORsMvoNcJ0/DZrseT6q7ZzXpPUjzBZ591a3jTpSmXnnOvNEs4ymghsIGk9SUsRZlbeWXLOncDR8f6hwAO1jB9Ak7cQnHOuJ6XKZRTHBE4C7iM0kn9nZtMlnQ9MMrM7gd8C10h6gdAyqHk6vlcIzjmXSMocRWZ2D3BPybFzM/c/Ar6Q7h1r7DLqKMGcpKskHVpL7DIxj5F0WcqYzjmXUksVtyLyFoJzziXS2uAJsCtuIUg6TdKz8XZqyXOSdJmkGZLuBlbNPPeypItjWuwnJa0fj68i6daYznqipJ3j8e0kPS7p6fhzozJl2VfSE5JWzv3JnXMusUbPdlpRC0HSNsCxhIURAiZIejhzykHARsAWwGqE1XS/yzw/x8y2k3QU8FNgP0I665+Y2d8lrUMYPNkE+CcwKg6q7AF8n/YcRkg6CDgN2MfM3svxmZ1zrls0dvug8i6jTwO3mdmHAJL+BGQnOo8CrjezFuANSQ+UvP76zM+fxPt7AJuGhccADJG0LGEu7dWSNiD8frOTxncl7J+wp5nNKVfQ7Oq/s5YbwUHLDK3wIzrnXG2KeuVfqUorhErGzjurHK3M/T6E9NeLrR6T9AvgQTM7KGbveyjz9IvAMGBDOshllF39N3HNgxq9wnbONZCFauyvnErHEB4BDpQ0SNIyhC6iR0ueP0xSX0mrE67ks0Znfj4R798PnNR2gqQR8e5yhER2AMeUxHkFOBj4g6TNKiy7c871CKviVkQVVQhm9hRwFfAkMAH4jZk9nTnlNuB54BngCuDhkhBLS5oAnAJ8Mx47GRgpaZqkGYQd1QB+CPxA0mOUyVpgZs8BRwI3SxpeSfmdc64n9IpBZQAz+zHw45Jjg+NPI3O1X8blZvbdktfOor3lkD3+BKFLqM058fhVhEqJWBmV5gZ3zrm6avRpp74OwTnnEmns6qAHKgQzG9rd7+Gcc0VQ1K6gSjV1C2Fs/3Qfb4N+6RLD7js/XULnmwamK9d6CdfTz+6T9lppk0/SxTp+83RlO+65dKm0U6asnv/Go12fVKHvjjw7WaxP+qb73T+yzvLJYqXS0uBthKauEFxzSFkZONedvIXgnHMOAPMWgnPOOfAWgnPOuajRp5326Baakh6SlG6DVuecK5BGX6nsLQTnnEtkYWG/6ivTbS0ESctIulvS1LiHwuiS5w+X9Ex87uLM8Q8kXSrpKUnjJK0Sjw+XdK+kyZIelbRxd5XdOefysCr+K6Lu7DLaC3jDzLYys82Be9uekLQGcDGwGzAC2FbSgfHpZYCnzGxrQk6k78TjY4FvmNk2wOnAL8u9qaQxkiZJmvTPuS92x+dyzrmyGj2XUXdWCM8Ae8Td0j5jZu9nntsWeMjM3jGzhcC1hD0VIPyuboz3/wh8WtJgYCdCQrspwK+B1cu9qZmNNbORZjZy42WHdcPHcs658hq9hdBtYwhmNjPutLYPIXvp/ZmnK9lfYVEoQsU128xGdHWyc87VS1Gv/CvVnWMIawDzzOyPwCXA1pmnJwCflbSypL7A4bSnzO4DHBrvHwH8Pe6O9pKkL8TYkrRVd5XdOefyaDGr+FZE3TnLaAvgR5JagQXACYSKATN7U9JZwIOE1sI9ZnZHfN2HwGaSJgPv054i+0jgCklnE7bVvAGY2o3ld865qjT6OoTu7DK6D7iv5PAumeevA67r4LXnEPdByBx7iTBQ7ZxzhVTUsYFK+ToE55xLpNHHEApXIbTtwuacc43Gu4wK7PQBHySLNXN2ul/VrQMXJIu1/0dLJYs1P+EeBht9km5zhccHpNs/AuBPM1dMFmvMJwOSxfruaumyuqTcw+A7k76XLNYjm52VLNbeL81PFgtgWoIY3mXknHMOoLCzhyrlFYJzziXiXUbOOecAH1R2zjkXNfoYQo/uh+Ccc82sFav4VgtJK0r6q6Tn488VypyzbswOPUXSdEnHdxW3sBWCpKMkTYvps6+R9HlJEyQ9Lelvklardxmdcy7LzCq+1ehMYJyZbQCMi49LvQnsFHPAbQ+cGVMKdaiQXUaSNgO+DexsZrMkrUhIcreDmZmkrwL/DfxXPcvpnHNZLT3XZXQA7ZkfrgYeAr6VPcHMPsk8XJoKGgBFbSHsBtxiZrMAzOxdYC3gPknPAGcAm5V7YXY/hBtnv9pjBXbOuZ7qMgJWM7M3IeSGA1Ytd5KktSVNA14FLjazNzoLWtQKQSy57egvgMvMbAvgP4GyK4Ky+yGMXn7tbi6mc861q6bLKHvxGm9jsrFi1/izZW4HVFGeV81sS2B94OiuutoL2WVE6BO7TdJPzOzfsctoOeD1+PzR9Suac86VV82Vv5mNJewE2dHze3T0nKS3JK0eM0evDrzdxXu9IWk68Bnglo7OK2QLwcymAxcCD0uaCvwYOI+wY9qjwKw6Fs8558rqwR3T7qT9wvho4I7SEyStJWlgvL8CsDPwXGdBi9pCwMyuJgyWZC3xoZ1zrih6MHXFRcBNkr4C/B/QtnnYSOB4M/sqsAlwqSQjdMNfYmbPdBa0sBWCc841mp5KXWFm/wZ2L3N8EvDVeP+vwJbVxPUKwTnnEvFcRgU2ac5KyWJt2PfDZLH6J/y1f9An3TDQoNZ0mVimDEj3GQcB/RP+O1u3z8Bksf6jb7oUzC2t6f5fftI33S8sZcrqUdN/kCzWoC2PSxYrlQQLzuqqqSsE1xxSVgbOdSdvITjnnAMaP7mdVwjOOZdIizV2AmyvEJxzLpFGH0Ooy8I0SctLOjHe30XSXVW+/ipJh3ZP6ZxzLp8ezGXULeq1Unl54MQ6vbdzznWLHlyp3C3q1WV0ETBc0hRgAfChpFuAzYHJwJdimutzgc8DA4HHgf+0Rm+TOeeaVmuDfz3Vq4VwJvC/ceOGM4BPAacCmwLDCDk3IGQ33dbMNidUCvvVo7DOOVeJRm8hFCW53ZNm9pqZtQJTgKHx+K5xl7RnCHsklN0DISubUvaBec93X4mdc65Ei7VWfCuiolRkHPfuAAAUW0lEQVQIH2futwD9JA0AfgkcGvdAuJIO9kDIyu6HsNugDbqntM45V0arWcW3IqpXhTAXWLaLc9q+/GdJGgz4rCLnXKE1epdRXQaV46Y3j0l6FpgPvFXmnNmSrgSeAV4GJvZsKZ1zrjpFvfKvVN0WppnZER0cPylz/2zg7DLnHNN9JXPOuXyKeuVfKV+p7JxzibRYS72LUBOvEJxzLpFGXybV1BXCnf0/SBZrTuvHXZ9Uoeu2TZdD/5yJqyWLtRx9k8VaIeGsuk0+XpguGHD0Tm8mizXy0TnJYgkli/XIOssni7X3S+n+XlPuYfDotN8li5VKUVNSVKqpKwTnnOtJ3kJwzjkH+Cwj55xzUaPPMkq2MC2b0ro7xXTZO3X3+zjnXLU8dUW7qlJaK8jz/rsAXiE45wrHzCq+FVHKLqNsSusHgS2BFYD+wNlmdoekocBf4vM7AgdK2gP4FvAG8DzwsZmdJGkV4FfAOjH+qcDrwPFAi6QvAd8ws0cTfgbnnMvNxxDanQlsbmYjJPUDBpnZHEkrA+Ml3RnP2wg41sxOlLQGcA6wNSG/0QPA1Hjez4CfmNnfJa0D3Gdmm0j6FfCBmV2SsOzOOVezol75V6q7BpUFfF/SKKAVWBNomzD/ipmNj/e3Ax42s3cBJN0MbBif2wPYVFo0N3uIpK4S4iFpDDAGYJsVt2L44KG1fxrnnKuAr0Mo70hgFWAbM1sg6WXas5d+mDmvs5U4fYAdzWyxVTGZCqIsMxsLjAUYve6Bjf1/xznXUBq9hZByUDmb0no54O1YGewKrNvBa54EPitphdjNdEjmufuBRYnuJI0o8z7OOVcYPssoMrN/A20prUcAIyVNIrQW/tnBa14Hvg9MAP4GzADej0+fHGNMkzSDMJgM8GfgIElTJH0mVfmdc65Wjb5BTtIuo45SWpfYvOTxdWY2NrYQbiO0DDCzWcDoMu8xkzCDyTnnCsW7jGp3Xpyq+izwEnB7ncvjnHO5+I5pNTKz0+tdBuecS6HRWwh1rxCcc65ZFHVsoGLVLLVu1hswxmM1fqwil81jNUesZr8VYQyhCMZ4rKaIlTqex/JYvYpXCM455wCvEJxzzkVeIQRjPVZTxEodz2N5rF5FcdDFOedcL+ctBOecc4BXCM455yKvEJxzzgG9fKWypGXM7MOuz+w0xgXAd81sYXw8BPiZmR1bQ8ylgI0BA54zs09yxBgOvGZmH0vahZAQ8A9mNjtvuVKRtDMwxcw+jFuhbk34nb1S56IhaSdgKJl/G2b2h7oVCJC0osVNpDLH1jOzl+pVppQkHdzZ82b2pxwxdzazx7o65hbXKweV4z/63wCDzWwdSVsB/2lmJ+aI9QNgT+BY4D+AXwC/MLPLcpZtX8Je0v9L2EBovVi2v1QZZwowkvDldh9wJ7CRme1TZZxnoGwmLgFmZlVnnpU0DdiKUEldA/wWONjMPpsj1mllDr8PTDazKVXGugYYDkwBWuJhM7OTc5RrLkv+3t4HJgH/ZWYvVhHrMWBvM5sTH28K3GRmpZmDK423IXAFsJqZbS5pS2B/M/tejlirEPZE35T2TbAws92qiPH7Tp42MzsuR7meMrOtuzrmFtdbWwg/Af4f4UsSM5sat/usmpmdJWkcYU+H94BRZvZCDWW7FNi1LUa80r8bqKpCAFrNbKGkg4CfmtkvJD2dozz75XhNVxaamUk6gNAy+K2ko3PGGhlvf46P9wUmAsdLutnMflhlrE0tzVXSj4E3gOsIledhhAuG54DfAbtUEev7wJ/jxcJGwB8I+4zkdSVwBvBrADObJuk6oOoKAbgWuJHwez8eOBp4p5oAtbSmS0naEdgJWKXkYmEI0DfV+zSr3lohYGavlmzH2dLRuZ2JFcnPgPOBLYDLJB1nZm/kLNrbJRXKi8DbOeIskHQ44R/o5+Ox/tUGyXbjSFoN2DY+fNLM8pQLYK6ks4AvA5+R1DdP2aKVgK3N7INYxu8AtwCjgMlANRXCs4Qv7TdzliVrLzPbPvN4rKTxZna+pP+pJpCZ3S2pP2GvkGWBA83s+RrKNsjMniz5+1+YM9ZKsUI/xcweBh6W9HDegsVKbzMWb22cX0WIpYDBhO+27M6Kc4BD85art+itFcKrsdvIYn/9ycA/csa6BPiCmc2ARf2hDxDGAPKYLuke4CZCl8MXgIlt/axV9KceS7hiu9DMXpK0HvDHnGVC0heBHwEPEa54fyHpDDO7JUe40cARwHFm9i9J68TYeawDZMdYFgDrmtl8SR9XEkDSnwm/62WBGZKeBBa91sz2z1Gu1vg7a/v9ZL+MKmqBSPpFyblDCBcI35BEnq6saFZseVp8n0PJXwkuiD/fjF/mbwBr5Qkk6VfAIGBXQpfuoYRtdiuWqZSuMrNXUowT9ia9dQxhZcJV/R6EL7f7gVMsbANabay+ZtZScmylPLHia8v1pxrtffYV96emGJzOxJoKfK6tVRD7jv9mZlvljPcfwHaxbBPN7F8545wDHATcEQ99ntAVeCkw1sy67FqR1OnYRfySqbZcwwh/YzsSPuN44JvA68A2Zvb3CmJ02o1mZldXW65M2cYSulbeI2xMdWSeQX1J+wGPAmsTxs+GAOeZ2Z87fWH5WNPMbMvMz8HAn8xszxyxdiSMTdU8Ttir1CvNarPcgNUIf3j3xsebAl+pId7VwPKZxysAv8sRZ1/gVcIV/cPA/xEGJvOW65mSx31Kj1UR66uxPFfFz/syobWQt2zbAKcApwIja4izHjAg83ggMLTef2PddQOWAZatMUbp3+uKef5e42snxJ/jgTWApYHn88YiVFJPZ449W+/fedFvvbLLSNLPyxx+H5hkZneUea4zVwG/B74dH88kDLL9NmfxtrTM1FAze0/Sp3LESTU43eZeSfcB18fHo4F7csY6A/iUxVaUpJWAxwmDrVWRtAMw3cwmx8fLStrezCbkKNfNhKvmNi3x2LblT++0XKsAX2PJKax5ZsxsAPyAJWfyDKs2Voy3EvAd4NOEbtO/A+dbvlZt6d/ruzn/XgHukrQ8ofvwKULL6jc5Y2GJxgl7k966MG0AMAJ4Pt62JFzZfEXST6uMtbKZ3QS0AlhYj1DLH14fSSu0PZC0IvnGelINTgNgZmcQuhm2JEwZHWtm38oZ7jVgbubxXEJrJo8rgA8yjz+Mx/LoZ5lutXh/qZyx7gCWA/5GqIjbbnn8nvCZFhL61/9AmK6b1w2EmUCHEPrp3yFcxOSR6u8VM7vAzGab2a3AusDGZnZOznItNk4o6XTyjxP2Gr2yhQCsD+xm7YvJriCMI3wOeKbKWB/GK662AbodCK2NvC4FHpd0S4z5ReDCHHFSDU4vEv+h3pqjLMBiawZeByZIuiOW7QCqHDzMhrXYHxDL2Cop79/1O5L2N7M7Y3kPAGbljDWohgqz1EAzGydJFvr5z5P0KOEqP48VzeyCzOPvSTowZ6xUf6/AkgsD4+B5noWBxxPGcNYkXIDcD3w9b7l6i95aIaxJ6D9t++JeBljDzFoqnZmScRphEHN4XEC0CjVMbzOzP0iaBOxGGEg+2OIMpioNAN4C2gZM3yG0gj5P+IdbVYUQK5KLgVVjudoGuYdUEeZTwAuxDNmWWLXddFkvSjqZ9lbBiYTWUB7HA9dKuozw+V4FjsoZ6y5J+5hZ3m61rI8k9QGel3QSoUJdtYZ4D0o6jHCxAOHvNVfrJeHfa4cLAwktomrLNYva1mr0Sr11ltFXgLNpn0I5irD453rCDIkzqoj1BcJK4LUJTfDtgXPM7KnExa4rSS8Anzez3M1uSTOAvQmLyHYpfd5K0jNUGHNV4OeELyQDxgGnWv41EsTZLTKzuV2e3HGMuYQLjY8JUzPzVKBtsbYldHcsD1xAmMnzIzMbX2PZWuOhPoSuNvKWMQVJ/yDRwsDE44S9Rq+sEAAkrUFYGPVPwj+O18zskRxx2qbIfZpQqVwK/I8tviipx2WmPe5A+KJ8gvBFmSv/jaTHzGznGst0MnACYTZPduFe25dlrkHSlBIsjOo2zT6nXtLNwMlmVvPCQEljCVOub46HDgGmEy7cXjSzU2t9j2bUKysESV8lTFNci9A83QF4wqrIv5KJ9bSZfUohp9EzZnZd27G0pa66XOOBy2mfFXQY8I1qKyq1Jx77LGEV7+0svmgrT+KxK8zshGpf10GslHl5yi6MMrOv5CzbCsAGLF655LnoSD6nXtL+hJYxwENmdlfeWLUqWRg4gjCeVNPCQEkPAHtmxgn7kRknNLNNExS96fTWCuEZwlTC8WY2QtLGhIylo3PEuovQp7sHYT78fMKXSK4FW6lImlD65a+QOmGHKuO0LZRrWxyXZXmmUaakkCbhDODXbZWwpGctR+K3xAujUl50TCBUTnfW+hnjay8i/P1fGw8dTkgGeGaeeLWKCwNFGKP67+xTwMV5WtuSngO2M7P34+PlCOscNi7CBVtR9dZB5Y/M7CNJSFrazP4paaOcsb4I7AVcYmazJa1O+IKqizjtD8LA4ZmEKYZGWDdQ9cChxcRjkq4mrOaeHR+vQOgeq7eUeXnmx5/zYpfivwndW3mcQvtFx65tFx05Y6WeU78PMMLMWmHR/9ungbpUCBZXgkvqbyWrwiUNzBn2h8AUSQ+RGSeUtAxhKrAro7dWCK/FBTC3A3+V9B6L92lXzMzmkZmxE/s/UyRHy2syi1/N/2fmOSMMSuaRasFcainz8qRcGJXyoiNl7q02ywNtg/jL1RirJpJOIMwOG6aQGr3NskDV+xco1Jz3ExZObkf4t/A/1p5wsm4XbEXXK7uMsmJzdTlC6oncuX6KRtIAM/uoq2NVxJsK7GJm78XHKwIPm9kWtZc2PyXMy1MSd2lCGotca0ok3UZIMHgqYQbUe0B/q3I/ihgrm3urD2FWW67cWzHe4cBFwIO0Xz2fZWY35IlXq9idswJhNXa2lTI3z8yzGHOymW2Tony9Sa+vEJqVEm8QIuko4CxC9s5FC5DMrJYVszVT3DksdgX0MbO5qnI3MXXDjl0l8Qt30RG7NrclVAgTLGdywaKSdDlwlZlNrHdZGolXCE1GIYvomoRU10fQ3nU0BPiVmeVNy43CTl1tC5DG5V2AlFIHFV9VV4fqnh279jCzv5UcO9pyZCjtYArxN62KXddinE4vBppp7Uxc87Ih8AphjUXuHf56E68QmoxCyuRjCLt/TaS9QphLuGKq6Wq3KOIg7WaEwcNsn/AQ4Awz26wuBYskPUKY9346YcOW3wAfm1nVq9gTTiF+sMzhbNqPqmdAFZWkdcsdr7Ursdl5hdCkJB1iIfdQU1LIM3QgsD9xK9RoLnCDmT2eM26ShWlxYPO/aB/UP9fMru/kJZ3FSjKFOPPaLxK6r+Yo7CexNXBBM7UQ2iisZM/+v/y/Ohan8HrrLKPeYC1JQwhfkFcS/tGfaWb317dYacT0A3dI2tHMnkgRs6OFaTnDrUBIY/K/hLUI60paLBFfFcpOIW6bYpxj4PVsM7tJYXX95wjTh6+I5W0KceHdpYR9Fd4mZE/9B6Gydx3oremve4PjzGwOsCchEdqxhJklzeYgSUMk9Zc0TtIsSV/KGWsnMzsKeM/MvkvY7WztnLHGA38xs70Ig7drkGMKZTSa0NJ4kJB/6wTgOMIU40k54rWtYdiXMK50B/nTfBfVBYQxl5lmth6wO/l//72GVwjNq23sYB/g92Y2NXOsmewZK779CGmONyT/PPPShWkLyL8wbQ9ggaRzzWw+Ye/tXAu/zGy9Tm558j+9LunXhJli98Qpts32XbAgTsvtI6mPmT1ISIvhOuFdRs1rsqT7CV9oZ0lalvbsls2kf/y5D3C9hR278sZKuTDtLMLvezfgfELX3aVUsftaN06HLdTq+m4yO6YeeYSQ0vxtQgXvOuGDyk1KIX/+CEJmx9kKm/isaWbTunhpQ4l5eQ4kXN1vR1iBe1ee/DclcWtdmPaUmW2dzZsjaWo1Oa4y02FXJSy8eyA+3pWQkK7TCqM3k3QpoZLrQ9gXYTlgK8uZqLC38BZC8zLCHrz7Ea5QlyEz26JZmNmZki4G5ljY4GgeYQe2XJRux64FkvrSnlJjFapsoWXySN1F2Cfgzfh4dcI0VNexXWOuplbgagjJC+tbpOLzCqF5/ZIluyxuJceG8UUmaRBha8R1gDGEwduNgKrTOSvhjl2ETXtuA1aVdCFhxtLZOeIADLXF9wh4izBW4kpk8iINT5EXqbfxLqMmlaLLohFIupEw2+YoC/shDCSkma56AFEJd+yK8TYmzG5pW9mdKyGdwpaeGxAWphlhYdoLZvaNFOVsJt2RF6k38RZC86q5y6JBDDez0TFhG2Y2X/lHlZ8lbAKUJFutmf2TsCNfrXFOigPMn4mHxprZbbXGbUZxzOd9wh4PrkpeITSvlF0WRfZJbBW0VXzDyey2VQktvmPXDEk179iVWpxR1BRpR1xxeYXQpMzsWkmTae+yODBvl0VRxZbAr4B7gbUlXQvsTMjlVI1LaN+x68DsW8RjdSFpLu17W2S7sdoStQ2pS8Fc0/IxhCYUp5xOs5xbLDaSWOntSViVKsIOZbNyxiqXOXVaETJkShpBe5fRI3GhoXNJNdvqRAfE6XZTJa1T77L0gPHAMDO728zuylMZSDpBYZ/tjSRNy9xeAuo+VVHSycA1wMrAKsA1knxA2SXnLYQmJekBwhTTJwn54IFi9IenlCLvfdFnpsTpkzua2Yfx8TKEmVR1b7m45uJjCM1rMGFRWpu69od3o71rDdAAM1NE+7oI4v1mzEvl6swrhObVz8wezh6Is3GaSi/Z8OT3wASFfZohDHz/to7lcU3Ku4yaTGal5jBCLv42ywKPmVne1NCujuL2l58mtAweMbOn61wk14S8QmgyRe8Pd84Vl1cIzjnnAJ926pxzLvIKwTnnHOAVgnPOucgrBOecc4BXCM4556L/DyxUoQjgV3qTAAAAAElFTkSuQmCC\n",
      "text/plain": [
       "<Figure size 432x288 with 2 Axes>"
      ]
     },
     "metadata": {
      "needs_background": "light"
     },
     "output_type": "display_data"
    }
   ],
   "source": [
    "import seaborn as sns\n",
    "sns.heatmap(df.corr())"
   ]
  },
  {
   "cell_type": "code",
   "execution_count": 26,
   "metadata": {},
   "outputs": [
    {
     "data": {
      "text/plain": [
       "{'whiskers': [<matplotlib.lines.Line2D at 0x2c6c471cb70>,\n",
       "  <matplotlib.lines.Line2D at 0x2c6c471ceb8>],\n",
       " 'caps': [<matplotlib.lines.Line2D at 0x2c6c471cf98>,\n",
       "  <matplotlib.lines.Line2D at 0x2c6c4727588>],\n",
       " 'boxes': [<matplotlib.lines.Line2D at 0x2c6c471c780>],\n",
       " 'medians': [<matplotlib.lines.Line2D at 0x2c6c47278d0>],\n",
       " 'fliers': [<matplotlib.lines.Line2D at 0x2c6c4727c18>],\n",
       " 'means': []}"
      ]
     },
     "execution_count": 26,
     "metadata": {},
     "output_type": "execute_result"
    },
    {
     "data": {
      "image/png": "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\n",
      "text/plain": [
       "<Figure size 432x288 with 1 Axes>"
      ]
     },
     "metadata": {
      "needs_background": "light"
     },
     "output_type": "display_data"
    }
   ],
   "source": [
    "plt.boxplot(df.trestbps)"
   ]
  },
  {
   "cell_type": "code",
   "execution_count": 27,
   "metadata": {},
   "outputs": [],
   "source": [
    "Q3 = df.trestbps.quantile(.75)\n",
    "Q1 = df.trestbps.quantile(.25)\n",
    "IQR = Q3 - Q1\n",
    "df = df[~((df.trestbps < Q1 - 1.5*IQR) | (df.trestbps > Q3 + 1.5*IQR))]"
   ]
  },
  {
   "cell_type": "code",
   "execution_count": 28,
   "metadata": {},
   "outputs": [],
   "source": [
    "Q3 = df.chol.quantile(.75)\n",
    "Q1 = df.chol.quantile(.25)\n",
    "IQR = Q3 - Q1\n",
    "df = df[~((df.chol < Q1 - 1.5*IQR) | (df.chol > Q3 + 1.5*IQR))]"
   ]
  },
  {
   "cell_type": "code",
   "execution_count": 29,
   "metadata": {},
   "outputs": [
    {
     "data": {
      "text/plain": [
       "(array([ 1,  2,  3,  4,  5,  6,  7,  8,  9, 10, 11, 12, 13, 14]),\n",
       " <a list of 14 Text xticklabel objects>)"
      ]
     },
     "execution_count": 29,
     "metadata": {},
     "output_type": "execute_result"
    },
    {
     "data": {
      "image/png": "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\n",
      "text/plain": [
       "<Figure size 432x288 with 1 Axes>"
      ]
     },
     "metadata": {
      "needs_background": "light"
     },
     "output_type": "display_data"
    }
   ],
   "source": [
    "df.boxplot()\n",
    "plt.xticks(rotation = 90)"
   ]
  },
  {
   "cell_type": "code",
   "execution_count": 30,
   "metadata": {},
   "outputs": [
    {
     "data": {
      "text/plain": [
       "Text(0.5, 1.0, 'GENDER - Heart Diseases')"
      ]
     },
     "execution_count": 30,
     "metadata": {},
     "output_type": "execute_result"
    },
    {
     "data": {
      "image/png": "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\n",
      "text/plain": [
       "<Figure size 432x288 with 1 Axes>"
      ]
     },
     "metadata": {
      "needs_background": "light"
     },
     "output_type": "display_data"
    }
   ],
   "source": [
    "sns.countplot(x=\"target\", data=df,hue = 'sex').set_title(\"GENDER - Heart Diseases\")"
   ]
  },
  {
   "cell_type": "code",
   "execution_count": null,
   "metadata": {},
   "outputs": [],
   "source": []
  }
 ],
 "metadata": {
  "kernelspec": {
   "display_name": "Python 3",
   "language": "python",
   "name": "python3"
  },
  "language_info": {
   "codemirror_mode": {
    "name": "ipython",
    "version": 3
   },
   "file_extension": ".py",
   "mimetype": "text/x-python",
   "name": "python",
   "nbconvert_exporter": "python",
   "pygments_lexer": "ipython3",
   "version": "3.7.3"
  }
 },
 "nbformat": 4,
 "nbformat_minor": 2
}
